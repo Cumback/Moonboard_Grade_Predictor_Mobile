{
 "cells": [
  {
   "cell_type": "markdown",
   "metadata": {},
   "source": [
    "## Instructions ##\n",
    "\n",
    "Select your holds by clicking on the hold location grid. Your selection will appear in green.\n",
    "\n",
    "After you have completed your selection, press the red \"Predict Grade!\" button. The predicted grade of your Moonboard boulder will be returned as \"YOUR PROBLEM HAS THE GRADE: XX\".\n",
    "\n",
    "To reload the grid, press the \"Reload\" button.\n",
    "\n",
    "-Have fun 🤓\n",
    "\n",
    "JF\n"
   ]
  },
  {
   "cell_type": "code",
   "execution_count": 3,
   "metadata": {},
   "outputs": [
    {
     "data": {
      "application/vnd.jupyter.widget-view+json": {
       "model_id": "854dc2e97a2741b7a5c320810cf9169a",
       "version_major": 2,
       "version_minor": 0
      },
      "text/plain": [
       "VBox(children=(HBox(children=(Button(description='A18', layout=Layout(height='60%', width='45px'), style=Butto…"
      ]
     },
     "metadata": {},
     "output_type": "display_data"
    },
    {
     "data": {
      "application/vnd.jupyter.widget-view+json": {
       "model_id": "32cc5b2cd5fc4f2180114d2bd8926839",
       "version_major": 2,
       "version_minor": 0
      },
      "text/plain": [
       "HBox(children=(Button(button_style='danger', description='Predict difficulty!', style=ButtonStyle()), Button(b…"
      ]
     },
     "metadata": {},
     "output_type": "display_data"
    },
    {
     "data": {
      "application/vnd.jupyter.widget-view+json": {
       "model_id": "95bcc6ba02a342fe8b6d71e04ec71e99",
       "version_major": 2,
       "version_minor": 0
      },
      "text/plain": [
       "HBox(children=(Button(button_style='danger', description='Predict difficulty!', style=ButtonStyle()), Button(b…"
      ]
     },
     "metadata": {},
     "output_type": "display_data"
    },
    {
     "name": "stdout",
     "output_type": "stream",
     "text": [
      "YOUR BOULDER HAS THE GRADE: \t7B+\n"
     ]
    }
   ],
   "source": [
    "from functions_new4 import *\n",
    "interactive_selection()"
   ]
  },
  {
   "cell_type": "code",
   "execution_count": null,
   "metadata": {},
   "outputs": [],
   "source": []
  }
 ],
 "metadata": {
  "kernelspec": {
   "display_name": "Python 3",
   "language": "python",
   "name": "python3"
  },
  "language_info": {
   "codemirror_mode": {
    "name": "ipython",
    "version": 3
   },
   "file_extension": ".py",
   "mimetype": "text/x-python",
   "name": "python",
   "nbconvert_exporter": "python",
   "pygments_lexer": "ipython3",
   "version": "3.7.4"
  }
 },
 "nbformat": 4,
 "nbformat_minor": 2
}
